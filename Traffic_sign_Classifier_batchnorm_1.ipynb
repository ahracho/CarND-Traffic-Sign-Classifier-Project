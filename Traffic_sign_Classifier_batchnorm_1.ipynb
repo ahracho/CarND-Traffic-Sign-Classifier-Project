{
  "nbformat": 4,
  "nbformat_minor": 0,
  "metadata": {
    "colab": {
      "name": "Traffic_sign_Classifier_batchnorm_1.ipynb",
      "version": "0.3.2",
      "provenance": [],
      "collapsed_sections": []
    },
    "kernelspec": {
      "display_name": "Python 3",
      "language": "python",
      "name": "python3"
    },
    "accelerator": "GPU"
  },
  "cells": [
    {
      "cell_type": "markdown",
      "metadata": {
        "id": "view-in-github",
        "colab_type": "text"
      },
      "source": [
        "[View in Colaboratory](https://colab.research.google.com/github/ahracho/CarND-Traffic-Sign-Classifier-Project/blob/master/Traffic_sign_Classifier_batchnorm_1.ipynb)"
      ]
    },
    {
      "metadata": {
        "id": "Cq_FrZjhSeSI",
        "colab_type": "code",
        "colab": {
          "base_uri": "https://localhost:8080/",
          "height": 139
        },
        "outputId": "49ea0757-4087-4ead-8d1f-3e0034931c96"
      },
      "cell_type": "code",
      "source": [
        "!apt-get install -y -qq software-properties-common python-software-properties module-init-tools\n",
        "!add-apt-repository -y ppa:alessandro-strada/ppa 2>&1 > /dev/null\n",
        "!apt-get update -qq 2>&1 > /dev/null\n",
        "!apt-get -y install -qq google-drive-ocamlfuse fuse\n",
        "from google.colab import auth\n",
        "auth.authenticate_user()\n",
        "from oauth2client.client import GoogleCredentials\n",
        "creds = GoogleCredentials.get_application_default()\n",
        "import getpass\n",
        "!google-drive-ocamlfuse -headless -id={creds.client_id} -secret={creds.client_secret} < /dev/null 2>&1 | grep URL\n",
        "vcode = getpass.getpass()\n",
        "!echo {vcode} | google-drive-ocamlfuse -headless -id={creds.client_id} -secret={creds.client_secret}"
      ],
      "execution_count": 1,
      "outputs": [
        {
          "output_type": "stream",
          "text": [
            "gpg: keybox '/tmp/tmp1xxes5p8/pubring.gpg' created\n",
            "gpg: /tmp/tmp1xxes5p8/trustdb.gpg: trustdb created\n",
            "gpg: key AD5F235DF639B041: public key \"Launchpad PPA for Alessandro Strada\" imported\n",
            "gpg: Total number processed: 1\n",
            "gpg:               imported: 1\n",
            "Warning: apt-key output should not be parsed (stdout is not a terminal)\n",
            "··········\n"
          ],
          "name": "stdout"
        }
      ]
    },
    {
      "metadata": {
        "id": "aWQTzLGoShbx",
        "colab_type": "code",
        "colab": {
          "base_uri": "https://localhost:8080/",
          "height": 52
        },
        "outputId": "9284d704-c98d-4445-e75c-8590c86dcd4f"
      },
      "cell_type": "code",
      "source": [
        "!mkdir -p drive\n",
        "!google-drive-ocamlfuse drive"
      ],
      "execution_count": 2,
      "outputs": [
        {
          "output_type": "stream",
          "text": [
            "fuse: mountpoint is not empty\r\n",
            "fuse: if you are sure this is safe, use the 'nonempty' mount option\r\n"
          ],
          "name": "stdout"
        }
      ]
    },
    {
      "metadata": {
        "id": "Sy46D9E6Sjqy",
        "colab_type": "code",
        "colab": {
          "base_uri": "https://localhost:8080/",
          "height": 34
        },
        "outputId": "17d703dd-2744-4c87-b5a2-777ce7165ade"
      },
      "cell_type": "code",
      "source": [
        "import os\n",
        "os.path.isdir(\"drive/DeepLearning/Traffic-Sign-Classifier\")"
      ],
      "execution_count": 3,
      "outputs": [
        {
          "output_type": "execute_result",
          "data": {
            "text/plain": [
              "True"
            ]
          },
          "metadata": {
            "tags": []
          },
          "execution_count": 3
        }
      ]
    },
    {
      "metadata": {
        "id": "SICaXEdCSD7x",
        "colab_type": "text"
      },
      "cell_type": "markdown",
      "source": [
        "## 1. Load Dataset"
      ]
    },
    {
      "metadata": {
        "id": "QrzdCziSZepg",
        "colab_type": "code",
        "colab": {}
      },
      "cell_type": "code",
      "source": [
        "# Load pickled data\n",
        "import pickle\n",
        "import matplotlib.pyplot as plt\n",
        "import cv2\n",
        "import numpy as np\n",
        "\n",
        "# TODO: Fill this in based on where you saved the training and testing data\n",
        "\n",
        "training_file = \"drive/DeepLearning/Traffic-Sign-Classifier/traffic-sign-data/train.p\"\n",
        "validation_file = \"drive/DeepLearning/Traffic-Sign-Classifier/traffic-sign-data/valid.p\"\n",
        "testing_file = \"drive/DeepLearning/Traffic-Sign-Classifier/traffic-sign-data/test.p\"\n",
        "\n",
        "with open(training_file, mode='rb') as f:\n",
        "    train = pickle.load(f)\n",
        "with open(validation_file, mode='rb') as f:\n",
        "    valid = pickle.load(f)\n",
        "with open(testing_file, mode='rb') as f:\n",
        "    test = pickle.load(f)\n",
        "    \n",
        "X_train, y_train = train['features'], train['labels']\n",
        "X_valid, y_valid = valid['features'], valid['labels']\n",
        "X_test, y_test = test['features'], test['labels']"
      ],
      "execution_count": 0,
      "outputs": []
    },
    {
      "metadata": {
        "id": "qoELLPhoaQbG",
        "colab_type": "code",
        "colab": {
          "base_uri": "https://localhost:8080/",
          "height": 104
        },
        "outputId": "b82f8b3b-b269-4911-ed21-3c9a862cfd09"
      },
      "cell_type": "code",
      "source": [
        "### Replace each question mark with the appropriate value. \n",
        "### Use python, pandas or numpy methods rather than hard coding the results\n",
        "\n",
        "import pandas as pd\n",
        "\n",
        "# TODO: Number of training examples\n",
        "n_train = X_train.shape[0]\n",
        "\n",
        "# TODO: Number of validation examples\n",
        "n_validation = X_valid.shape[0]\n",
        "\n",
        "# TODO: Number of testing examples.\n",
        "n_test = X_test.shape[0]\n",
        "\n",
        "# TODO: What's the shape of an traffic sign image?\n",
        "image_shape = (X_train.shape[1:])\n",
        "\n",
        "# TODO: How many unique classes/labels there are in the dataset.\n",
        "n_classes = len(pd.unique(y_train))\n",
        "\n",
        "print(\"Number of training examples =\", n_train)\n",
        "print(\"Number of validation examples =\", n_validation)\n",
        "print(\"Number of testing examples =\", n_test)\n",
        "print(\"Image data shape =\", image_shape)\n",
        "print(\"Number of classes =\", n_classes)"
      ],
      "execution_count": 5,
      "outputs": [
        {
          "output_type": "stream",
          "text": [
            "Number of training examples = 34799\n",
            "Number of validation examples = 4410\n",
            "Number of testing examples = 12630\n",
            "Image data shape = (32, 32, 3)\n",
            "Number of classes = 43\n"
          ],
          "name": "stdout"
        }
      ]
    },
    {
      "metadata": {
        "id": "FrFbQ6YKSD8d",
        "colab_type": "text"
      },
      "cell_type": "markdown",
      "source": [
        "## 2. Preprocess Data"
      ]
    },
    {
      "metadata": {
        "id": "Ujj22_NPaUak",
        "colab_type": "code",
        "colab": {}
      },
      "cell_type": "code",
      "source": [
        "# Pre-Processing the data\n",
        "\n",
        "# scale images to values between -0.5 to 0.5\n",
        "def preprocess_data(data):\n",
        "    data_norm = []\n",
        "    for i in range(len(data)):\n",
        "        image = data[i]\n",
        "        image[:,:,0] = cv2.equalizeHist(image[:,:,0])\n",
        "        image[:,:,1] = cv2.equalizeHist(image[:,:,1])\n",
        "        image[:,:,2] = cv2.equalizeHist(image[:,:,2])\n",
        "        image = image/255.-.5\n",
        "        data_norm.append(image)\n",
        "    return np.array(data_norm, dtype=np.float32())\n",
        "\n",
        "X_train = preprocess_data(X_train)\n",
        "X_valid = preprocess_data(X_valid)\n",
        "X_test = preprocess_data(X_test)"
      ],
      "execution_count": 0,
      "outputs": []
    },
    {
      "metadata": {
        "id": "BulKoEDJSD83",
        "colab_type": "text"
      },
      "cell_type": "markdown",
      "source": [
        "## 3. Network Design : LeNet with batch normalization"
      ]
    },
    {
      "metadata": {
        "id": "eZ_bghL3iIa1",
        "colab_type": "code",
        "colab": {}
      },
      "cell_type": "code",
      "source": [
        "### Define your architecture here.\n",
        "### Feel free to use as many code cells as needed.\n",
        "\n",
        "import tensorflow as tf\n",
        "from tensorflow.contrib.layers import flatten\n",
        "\n",
        "\n",
        "def LeNet(x, phase):\n",
        "    # Hyperparameters\n",
        "    mu = 0\n",
        "    sigma = 0.1\n",
        "\n",
        "    # SOLUTION: Layer 1: Convolutional. Input = 32x32x3. Output = 28x28x6.\n",
        "    conv1_W = tf.Variable(tf.truncated_normal(\n",
        "        shape=(5, 5, 3, 6), mean=mu, stddev=sigma), name=\"conv1_W\")\n",
        "    conv1_b = tf.Variable(tf.zeros(6), name=\"conv1_b\")\n",
        "    conv1 = tf.nn.conv2d(x, conv1_W, strides=[\n",
        "                         1, 1, 1, 1], padding='VALID') + conv1_b\n",
        "    conv1 = tf.contrib.layers.batch_norm(conv1,\n",
        "                                 center=True, \n",
        "                                 scale=True,\n",
        "                                 is_training=phase,\n",
        "                                 updates_collections=None)\n",
        "    # SOLUTION: Activation.\n",
        "    conv1 = tf.nn.relu(conv1)\n",
        "\n",
        "    # SOLUTION: Pooling. Input = 28x28x6. Output = 14x14x6.\n",
        "    conv1 = tf.nn.max_pool(conv1, ksize=[1, 2, 2, 1], strides=[\n",
        "                           1, 2, 2, 1], padding='VALID')\n",
        "\n",
        "    # SOLUTION: Layer 2: Convolutional. Output = 10x10x16.\n",
        "    conv2_W = tf.Variable(tf.truncated_normal(\n",
        "        shape=(5, 5, 6, 16), mean=mu, stddev=sigma), name=\"conv2_W\")\n",
        "    conv2_b = tf.Variable(tf.zeros(16), name=\"conv2_b\")\n",
        "    conv2 = tf.nn.conv2d(conv1, conv2_W, strides=[\n",
        "                         1, 1, 1, 1], padding='VALID') + conv2_b\n",
        "    conv2 = tf.contrib.layers.batch_norm(conv2,\n",
        "                                 center=True, \n",
        "                                 scale=True,\n",
        "                                 is_training=phase,\n",
        "                                 updates_collections=None)\n",
        "    # SOLUTION: Activation.\n",
        "    conv2 = tf.nn.relu(conv2)\n",
        "\n",
        "    # SOLUTION: Pooling. Input = 10x10x16. Output = 5x5x16.\n",
        "    conv2 = tf.nn.max_pool(conv2, ksize=[1, 2, 2, 1], strides=[\n",
        "                           1, 2, 2, 1], padding='VALID')\n",
        "    # SOLUTION: Flatten. Input = 5x5x16. Output = 400.\n",
        "    fc0 = flatten(conv2)\n",
        "    \n",
        "    # SOLUTION: Layer 3: Fully Connected. Input = 400. Output = 120.\n",
        "    fc1_W = tf.Variable(tf.truncated_normal(\n",
        "        shape=(400, 250), mean=mu, stddev=sigma), name=\"fc1_W\")\n",
        "    fc1_b = tf.Variable(tf.zeros(250), name=\"fc1_b\")\n",
        "    fc1 = tf.matmul(fc0, fc1_W) + fc1_b\n",
        "    fc1 = tf.contrib.layers.batch_norm(fc1,\n",
        "                                 center=True, \n",
        "                                 scale=True,\n",
        "                                 is_training=phase,\n",
        "                                 updates_collections=None)\n",
        "    # SOLUTION: Activation.\n",
        "    fc1 = tf.nn.relu(fc1)\n",
        "    \n",
        "    fc2_W = tf.Variable(tf.truncated_normal(\n",
        "        shape=(250, 120), mean=mu, stddev=sigma), name=\"fc2_W\")\n",
        "    fc2_b = tf.Variable(tf.zeros(120), name=\"fc2_b\")\n",
        "    fc2 = tf.matmul(fc1, fc2_W) + fc2_b\n",
        "    fc2 = tf.contrib.layers.batch_norm(fc2,\n",
        "                                 center=True, \n",
        "                                 scale=True,\n",
        "                                 is_training=phase,\n",
        "                                 updates_collections=None)\n",
        "    # SOLUTION: Activation.\n",
        "    fc2 = tf.nn.relu(fc2)\n",
        "\n",
        "    # SOLUTION: Layer 4: Fully Connected. Input = 120. Output = 84.\n",
        "    fc3_W = tf.Variable(tf.truncated_normal(\n",
        "        shape=(120, 84), mean=mu, stddev=sigma), name=\"fc3_W\")\n",
        "    fc3_b = tf.Variable(tf.zeros(84), name=\"fc3_b\")\n",
        "    fc3 = tf.matmul(fc2, fc3_W) + fc3_b\n",
        "    fc3 = tf.contrib.layers.batch_norm(fc3,\n",
        "                                 center=True, \n",
        "                                 scale=True,\n",
        "                                 is_training=phase,\n",
        "                                 updates_collections=None)\n",
        "    # SOLUTION: Activation.\n",
        "    fc3 = tf.nn.relu(fc3)\n",
        "\n",
        "    # SOLUTION: Layer 5: Fully Connected. Input = 84. Output = 10.\n",
        "    fc4_W = tf.Variable(tf.truncated_normal(\n",
        "        shape=(84, 43), mean=mu, stddev=sigma), name=\"fc4_W\")\n",
        "    fc4_b = tf.Variable(tf.zeros(43), name=\"fc4_b\")\n",
        "    logits = tf.matmul(fc3, fc4_W) + fc4_b\n",
        "\n",
        "    return logits"
      ],
      "execution_count": 0,
      "outputs": []
    },
    {
      "metadata": {
        "id": "6uyj94ksSD9H",
        "colab_type": "text"
      },
      "cell_type": "markdown",
      "source": [
        "## 4. Variables Setting"
      ]
    },
    {
      "metadata": {
        "id": "bRYotIakiKKf",
        "colab_type": "code",
        "colab": {}
      },
      "cell_type": "code",
      "source": [
        "x = tf.placeholder(tf.float32, (None, 32, 32, 3))\n",
        "y = tf.placeholder(tf.int32, (None))\n",
        "one_hot_y = tf.one_hot(y, 43)\n",
        "in_training_mode = tf.placeholder(tf.bool)"
      ],
      "execution_count": 0,
      "outputs": []
    },
    {
      "metadata": {
        "id": "9b6qbPP2iL-g",
        "colab_type": "code",
        "colab": {}
      },
      "cell_type": "code",
      "source": [
        "##### Training Pipeline\n",
        "rate = 0.001\n",
        "\n",
        "logits = LeNet(x, in_training_mode)\n",
        "cross_entropy = tf.nn.softmax_cross_entropy_with_logits_v2(labels=one_hot_y, logits=logits)\n",
        "loss_operation = tf.reduce_mean(cross_entropy)\n",
        "optimizer = tf.train.AdamOptimizer(learning_rate = rate)\n",
        "training_operation = optimizer.minimize(loss_operation)"
      ],
      "execution_count": 0,
      "outputs": []
    },
    {
      "metadata": {
        "id": "DsDp6AqgiOEq",
        "colab_type": "code",
        "colab": {}
      },
      "cell_type": "code",
      "source": [
        "correct_prediction = tf.equal(tf.argmax(logits, 1), tf.argmax(one_hot_y, 1))\n",
        "accuracy_operation = tf.reduce_mean(tf.cast(correct_prediction, tf.float32))\n",
        "saver = tf.train.Saver()"
      ],
      "execution_count": 0,
      "outputs": []
    },
    {
      "metadata": {
        "id": "2GlzjyEIiQEc",
        "colab_type": "code",
        "colab": {}
      },
      "cell_type": "code",
      "source": [
        "def evaluate(X_data, y_data, is_training):\n",
        "    num_examples = len(X_data)\n",
        "    total_accuracy = 0\n",
        "    sess = tf.get_default_session()\n",
        "    for offset in range(0, num_examples, BATCH_SIZE):\n",
        "        batch_x, batch_y = X_data[offset:offset+BATCH_SIZE], y_data[offset:offset+BATCH_SIZE]\n",
        "        accuracy = sess.run(accuracy_operation, feed_dict={x: batch_x, y: batch_y, in_training_mode:is_training})\n",
        "        total_accuracy += (accuracy * len(batch_x))\n",
        "    return total_accuracy / num_examples"
      ],
      "execution_count": 0,
      "outputs": []
    },
    {
      "metadata": {
        "id": "EGr8GtTFSD-E",
        "colab_type": "text"
      },
      "cell_type": "markdown",
      "source": [
        "## 5. Training & Evaluation"
      ]
    },
    {
      "metadata": {
        "id": "RAZkX8AhiR1K",
        "colab_type": "code",
        "colab": {
          "base_uri": "https://localhost:8080/",
          "height": 6100
        },
        "outputId": "2006d73c-5942-492a-f20e-27af925c762c"
      },
      "cell_type": "code",
      "source": [
        "from sklearn.utils import shuffle\n",
        "import numpy as np\n",
        "import matplotlib.pyplot as plt\n",
        "\n",
        "EPOCHS = 100\n",
        "BATCH_SIZE = 256\n",
        "\n",
        "with tf.Session() as sess:\n",
        "    sess.run(tf.global_variables_initializer())\n",
        "    \n",
        "    t_accuracy = []\n",
        "    v_accuracy = []\n",
        "    max_va = 0.0\n",
        "    print(\"Training...\")\n",
        "    print()\n",
        "    for i in range(EPOCHS):\n",
        "        X_train, y_train = shuffle(X_train, y_train)\n",
        "        for offset in range(0, len(X_train), BATCH_SIZE):\n",
        "            end = offset + BATCH_SIZE\n",
        "            batch_x, batch_y = X_train[offset:end], y_train[offset:end]\n",
        "            sess.run(training_operation, feed_dict={x: batch_x, y: batch_y, in_training_mode: True})\n",
        "        \n",
        "        train_accuracy = evaluate(X_train, y_train, False)\n",
        "        validation_accuracy = evaluate(X_valid, y_valid, False)\n",
        "        t_accuracy = np.append(t_accuracy, train_accuracy)\n",
        "        v_accuracy = np.append(v_accuracy, validation_accuracy)\n",
        "        print(\"EPOCH {} ...\".format(i+1))\n",
        "        print(\"Train Accuracy = {:.3f}\".format(train_accuracy))\n",
        "        print(\"Validation Accuracy = {:.3f}\".format(validation_accuracy))\n",
        "        \n",
        "        \n",
        "        if (validation_accuracy > 0.9) and (validation_accuracy >= max_va):\n",
        "            saver.save(sess, 'drive/DeepLearning/Traffic-Sign-Classifier/lenet_max')\n",
        "            print(\"saved\")\n",
        "            print()\n",
        "            max_va = validation_accuracy\n",
        "        \n",
        "    plt.plot(range(len(t_accuracy)), t_accuracy)\n",
        "    plt.plot(range(len(v_accuracy)), v_accuracy)\n",
        "    plt.show()"
      ],
      "execution_count": 13,
      "outputs": [
        {
          "output_type": "stream",
          "text": [
            "Training...\n",
            "\n",
            "EPOCH 1 ...\n",
            "Train Accuracy = 0.639\n",
            "Validation Accuracy = 0.584\n",
            "EPOCH 2 ...\n",
            "Train Accuracy = 0.764\n",
            "Validation Accuracy = 0.702\n",
            "EPOCH 3 ...\n",
            "Train Accuracy = 0.871\n",
            "Validation Accuracy = 0.798\n",
            "EPOCH 4 ...\n",
            "Train Accuracy = 0.880\n",
            "Validation Accuracy = 0.804\n",
            "EPOCH 5 ...\n",
            "Train Accuracy = 0.914\n",
            "Validation Accuracy = 0.834\n",
            "EPOCH 6 ...\n",
            "Train Accuracy = 0.934\n",
            "Validation Accuracy = 0.854\n",
            "EPOCH 7 ...\n",
            "Train Accuracy = 0.938\n",
            "Validation Accuracy = 0.855\n",
            "EPOCH 8 ...\n",
            "Train Accuracy = 0.955\n",
            "Validation Accuracy = 0.865\n",
            "EPOCH 9 ...\n",
            "Train Accuracy = 0.962\n",
            "Validation Accuracy = 0.879\n",
            "EPOCH 10 ...\n",
            "Train Accuracy = 0.970\n",
            "Validation Accuracy = 0.880\n",
            "EPOCH 11 ...\n",
            "Train Accuracy = 0.970\n",
            "Validation Accuracy = 0.880\n",
            "EPOCH 12 ...\n",
            "Train Accuracy = 0.961\n",
            "Validation Accuracy = 0.873\n",
            "EPOCH 13 ...\n",
            "Train Accuracy = 0.979\n",
            "Validation Accuracy = 0.893\n",
            "EPOCH 14 ...\n",
            "Train Accuracy = 0.983\n",
            "Validation Accuracy = 0.902\n",
            "saved\n",
            "\n",
            "EPOCH 15 ...\n",
            "Train Accuracy = 0.990\n",
            "Validation Accuracy = 0.907\n",
            "saved\n",
            "\n",
            "EPOCH 16 ...\n",
            "Train Accuracy = 0.991\n",
            "Validation Accuracy = 0.911\n",
            "saved\n",
            "\n",
            "EPOCH 17 ...\n",
            "Train Accuracy = 0.991\n",
            "Validation Accuracy = 0.912\n",
            "saved\n",
            "\n",
            "EPOCH 18 ...\n",
            "Train Accuracy = 0.994\n",
            "Validation Accuracy = 0.915\n",
            "saved\n",
            "\n",
            "EPOCH 19 ...\n",
            "Train Accuracy = 0.994\n",
            "Validation Accuracy = 0.911\n",
            "EPOCH 20 ...\n",
            "Train Accuracy = 0.943\n",
            "Validation Accuracy = 0.864\n",
            "EPOCH 21 ...\n",
            "Train Accuracy = 0.984\n",
            "Validation Accuracy = 0.908\n",
            "EPOCH 22 ...\n",
            "Train Accuracy = 0.982\n",
            "Validation Accuracy = 0.906\n",
            "EPOCH 23 ...\n",
            "Train Accuracy = 0.998\n",
            "Validation Accuracy = 0.934\n",
            "saved\n",
            "\n",
            "EPOCH 24 ...\n",
            "Train Accuracy = 1.000\n",
            "Validation Accuracy = 0.945\n",
            "saved\n",
            "\n",
            "EPOCH 25 ...\n",
            "Train Accuracy = 1.000\n",
            "Validation Accuracy = 0.945\n",
            "saved\n",
            "\n",
            "EPOCH 26 ...\n",
            "Train Accuracy = 1.000\n",
            "Validation Accuracy = 0.949\n",
            "saved\n",
            "\n",
            "EPOCH 27 ...\n",
            "Train Accuracy = 1.000\n",
            "Validation Accuracy = 0.952\n",
            "saved\n",
            "\n",
            "EPOCH 28 ...\n",
            "Train Accuracy = 1.000\n",
            "Validation Accuracy = 0.952\n",
            "saved\n",
            "\n",
            "EPOCH 29 ...\n",
            "Train Accuracy = 1.000\n",
            "Validation Accuracy = 0.954\n",
            "saved\n",
            "\n",
            "EPOCH 30 ...\n",
            "Train Accuracy = 1.000\n",
            "Validation Accuracy = 0.956\n",
            "saved\n",
            "\n",
            "EPOCH 31 ...\n",
            "Train Accuracy = 1.000\n",
            "Validation Accuracy = 0.956\n",
            "saved\n",
            "\n",
            "EPOCH 32 ...\n",
            "Train Accuracy = 1.000\n",
            "Validation Accuracy = 0.958\n",
            "saved\n",
            "\n",
            "EPOCH 33 ...\n",
            "Train Accuracy = 1.000\n",
            "Validation Accuracy = 0.955\n",
            "EPOCH 34 ...\n",
            "Train Accuracy = 1.000\n",
            "Validation Accuracy = 0.956\n",
            "EPOCH 35 ...\n",
            "Train Accuracy = 1.000\n",
            "Validation Accuracy = 0.955\n",
            "EPOCH 36 ...\n",
            "Train Accuracy = 1.000\n",
            "Validation Accuracy = 0.955\n",
            "EPOCH 37 ...\n",
            "Train Accuracy = 1.000\n",
            "Validation Accuracy = 0.956\n",
            "EPOCH 38 ...\n",
            "Train Accuracy = 1.000\n",
            "Validation Accuracy = 0.955\n",
            "EPOCH 39 ...\n",
            "Train Accuracy = 1.000\n",
            "Validation Accuracy = 0.955\n",
            "EPOCH 40 ...\n",
            "Train Accuracy = 1.000\n",
            "Validation Accuracy = 0.955\n",
            "EPOCH 41 ...\n",
            "Train Accuracy = 1.000\n",
            "Validation Accuracy = 0.956\n",
            "EPOCH 42 ...\n",
            "Train Accuracy = 1.000\n",
            "Validation Accuracy = 0.956\n",
            "EPOCH 43 ...\n",
            "Train Accuracy = 1.000\n",
            "Validation Accuracy = 0.956\n",
            "EPOCH 44 ...\n",
            "Train Accuracy = 1.000\n",
            "Validation Accuracy = 0.955\n",
            "EPOCH 45 ...\n",
            "Train Accuracy = 1.000\n",
            "Validation Accuracy = 0.956\n",
            "EPOCH 46 ...\n",
            "Train Accuracy = 1.000\n",
            "Validation Accuracy = 0.956\n",
            "EPOCH 47 ...\n",
            "Train Accuracy = 1.000\n",
            "Validation Accuracy = 0.958\n"
          ],
          "name": "stdout"
        },
        {
          "output_type": "stream",
          "text": [
            "saved\n",
            "\n",
            "EPOCH 48 ...\n",
            "Train Accuracy = 1.000\n",
            "Validation Accuracy = 0.956\n",
            "EPOCH 49 ...\n",
            "Train Accuracy = 1.000\n",
            "Validation Accuracy = 0.956\n",
            "EPOCH 50 ...\n",
            "Train Accuracy = 1.000\n",
            "Validation Accuracy = 0.955\n",
            "EPOCH 51 ...\n",
            "Train Accuracy = 0.981\n",
            "Validation Accuracy = 0.910\n",
            "EPOCH 52 ...\n",
            "Train Accuracy = 0.980\n",
            "Validation Accuracy = 0.905\n",
            "EPOCH 53 ...\n",
            "Train Accuracy = 0.985\n",
            "Validation Accuracy = 0.912\n",
            "EPOCH 54 ...\n",
            "Train Accuracy = 0.994\n",
            "Validation Accuracy = 0.929\n",
            "EPOCH 55 ...\n",
            "Train Accuracy = 0.999\n",
            "Validation Accuracy = 0.937\n",
            "EPOCH 56 ...\n",
            "Train Accuracy = 0.999\n",
            "Validation Accuracy = 0.943\n",
            "EPOCH 57 ...\n",
            "Train Accuracy = 1.000\n",
            "Validation Accuracy = 0.946\n",
            "EPOCH 58 ...\n",
            "Train Accuracy = 1.000\n",
            "Validation Accuracy = 0.951\n",
            "EPOCH 59 ...\n",
            "Train Accuracy = 1.000\n",
            "Validation Accuracy = 0.949\n",
            "EPOCH 60 ...\n",
            "Train Accuracy = 1.000\n",
            "Validation Accuracy = 0.950\n",
            "EPOCH 61 ...\n",
            "Train Accuracy = 1.000\n",
            "Validation Accuracy = 0.951\n",
            "EPOCH 62 ...\n",
            "Train Accuracy = 1.000\n",
            "Validation Accuracy = 0.953\n",
            "EPOCH 63 ...\n",
            "Train Accuracy = 1.000\n",
            "Validation Accuracy = 0.953\n",
            "EPOCH 64 ...\n",
            "Train Accuracy = 1.000\n",
            "Validation Accuracy = 0.954\n",
            "EPOCH 65 ...\n",
            "Train Accuracy = 1.000\n",
            "Validation Accuracy = 0.955\n",
            "EPOCH 66 ...\n",
            "Train Accuracy = 1.000\n",
            "Validation Accuracy = 0.955\n",
            "EPOCH 67 ...\n",
            "Train Accuracy = 1.000\n",
            "Validation Accuracy = 0.956\n",
            "EPOCH 68 ...\n",
            "Train Accuracy = 1.000\n",
            "Validation Accuracy = 0.956\n",
            "EPOCH 69 ...\n",
            "Train Accuracy = 1.000\n",
            "Validation Accuracy = 0.955\n",
            "EPOCH 70 ...\n",
            "Train Accuracy = 1.000\n",
            "Validation Accuracy = 0.955\n",
            "EPOCH 71 ...\n",
            "Train Accuracy = 1.000\n",
            "Validation Accuracy = 0.956\n",
            "EPOCH 72 ...\n",
            "Train Accuracy = 1.000\n",
            "Validation Accuracy = 0.956\n",
            "EPOCH 73 ...\n",
            "Train Accuracy = 1.000\n",
            "Validation Accuracy = 0.955\n",
            "EPOCH 74 ...\n",
            "Train Accuracy = 1.000\n",
            "Validation Accuracy = 0.957\n",
            "EPOCH 75 ...\n",
            "Train Accuracy = 1.000\n",
            "Validation Accuracy = 0.953\n",
            "EPOCH 76 ...\n",
            "Train Accuracy = 1.000\n",
            "Validation Accuracy = 0.953\n",
            "EPOCH 77 ...\n",
            "Train Accuracy = 1.000\n",
            "Validation Accuracy = 0.956\n",
            "EPOCH 78 ...\n",
            "Train Accuracy = 1.000\n",
            "Validation Accuracy = 0.957\n",
            "EPOCH 79 ...\n",
            "Train Accuracy = 1.000\n",
            "Validation Accuracy = 0.958\n",
            "EPOCH 80 ...\n",
            "Train Accuracy = 1.000\n",
            "Validation Accuracy = 0.956\n",
            "EPOCH 81 ...\n",
            "Train Accuracy = 1.000\n",
            "Validation Accuracy = 0.957\n",
            "EPOCH 82 ...\n",
            "Train Accuracy = 1.000\n",
            "Validation Accuracy = 0.957\n",
            "EPOCH 83 ...\n",
            "Train Accuracy = 1.000\n",
            "Validation Accuracy = 0.957\n",
            "EPOCH 84 ...\n",
            "Train Accuracy = 1.000\n",
            "Validation Accuracy = 0.957\n",
            "EPOCH 85 ...\n",
            "Train Accuracy = 1.000\n",
            "Validation Accuracy = 0.957\n",
            "EPOCH 86 ...\n",
            "Train Accuracy = 1.000\n",
            "Validation Accuracy = 0.957\n",
            "EPOCH 87 ...\n",
            "Train Accuracy = 1.000\n",
            "Validation Accuracy = 0.957\n",
            "EPOCH 88 ...\n",
            "Train Accuracy = 1.000\n",
            "Validation Accuracy = 0.957\n",
            "EPOCH 89 ...\n",
            "Train Accuracy = 1.000\n",
            "Validation Accuracy = 0.957\n",
            "EPOCH 90 ...\n",
            "Train Accuracy = 1.000\n",
            "Validation Accuracy = 0.959\n",
            "saved\n",
            "\n",
            "EPOCH 91 ...\n",
            "Train Accuracy = 1.000\n",
            "Validation Accuracy = 0.958\n",
            "EPOCH 92 ...\n",
            "Train Accuracy = 1.000\n",
            "Validation Accuracy = 0.957\n",
            "EPOCH 93 ...\n",
            "Train Accuracy = 1.000\n",
            "Validation Accuracy = 0.958\n",
            "EPOCH 94 ...\n",
            "Train Accuracy = 1.000\n",
            "Validation Accuracy = 0.957\n",
            "EPOCH 95 ...\n",
            "Train Accuracy = 1.000\n",
            "Validation Accuracy = 0.958\n",
            "EPOCH 96 ...\n",
            "Train Accuracy = 1.000\n",
            "Validation Accuracy = 0.959\n",
            "EPOCH 97 ...\n",
            "Train Accuracy = 1.000\n",
            "Validation Accuracy = 0.950\n",
            "EPOCH 98 ...\n",
            "Train Accuracy = 0.973\n",
            "Validation Accuracy = 0.905\n",
            "EPOCH 99 ...\n",
            "Train Accuracy = 0.996\n",
            "Validation Accuracy = 0.931\n",
            "EPOCH 100 ...\n",
            "Train Accuracy = 0.998\n",
            "Validation Accuracy = 0.940\n"
          ],
          "name": "stdout"
        },
        {
          "output_type": "display_data",
          "data": {
            "image/png": "[encoded data removed]",
            "text/plain": [
              "<matplotlib.figure.Figure at 0x7fcb581a7550>"
            ]
          },
          "metadata": {
            "tags": []
          }
        }
      ]
    },
    {
      "metadata": {
        "id": "DN0lQ_PSSD-b",
        "colab_type": "text"
      },
      "cell_type": "markdown",
      "source": [
        "## 6. Evaluation with Test Dataset"
      ]
    },
    {
      "metadata": {
        "id": "kfIw8JfajBZ0",
        "colab_type": "code",
        "colab": {
          "base_uri": "https://localhost:8080/",
          "height": 52
        },
        "outputId": "94d97fd0-11d5-4346-c313-e88524fcfeb2"
      },
      "cell_type": "code",
      "source": [
        "with tf.Session() as sess:\n",
        "    saver.restore(sess, tf.train.latest_checkpoint('drive/DeepLearning/Traffic-Sign-Classifier'))\n",
        "    test_accuracy = evaluate(X_test, y_test, False)\n",
        "    print(\"Test Accuracy = {:.3f}\".format(test_accuracy))"
      ],
      "execution_count": 14,
      "outputs": [
        {
          "output_type": "stream",
          "text": [
            "INFO:tensorflow:Restoring parameters from drive/DeepLearning/Traffic-Sign-Classifier/lenet_max\n",
            "Test Accuracy = 0.938\n"
          ],
          "name": "stdout"
        }
      ]
    },
    {
      "metadata": {
        "id": "ACEfkP9AVDqK",
        "colab_type": "code",
        "colab": {}
      },
      "cell_type": "code",
      "source": [
        ""
      ],
      "execution_count": 0,
      "outputs": []
    }
  ]
}