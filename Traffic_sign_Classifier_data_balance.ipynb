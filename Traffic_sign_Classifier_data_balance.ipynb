{
  "nbformat": 4,
  "nbformat_minor": 0,
  "metadata": {
    "colab": {
      "name": "Traffic_sign_Classifier_data_balance.ipynb",
      "version": "0.3.2",
      "provenance": [],
      "collapsed_sections": [],
      "include_colab_link": true
    },
    "kernelspec": {
      "name": "python3",
      "display_name": "Python 3"
    },
    "accelerator": "GPU"
  },
  "cells": [
    {
      "cell_type": "markdown",
      "metadata": {
        "id": "view-in-github",
        "colab_type": "text"
      },
      "source": [
        "[View in Colaboratory](https://colab.research.google.com/github/ahracho/CarND-Traffic-Sign-Classifier-Project/blob/master/Traffic_sign_Classifier_data_balance.ipynb)"
      ]
    },
    {
      "metadata": {
        "id": "gb2kanqgZKQ_",
        "colab_type": "code",
        "colab": {
          "base_uri": "https://localhost:8080/",
          "height": 139
        },
        "outputId": "f1951bc0-7409-4901-c8d3-30fe684a0595"
      },
      "cell_type": "code",
      "source": [
        "!apt-get install -y -qq software-properties-common python-software-properties module-init-tools\n",
        "!add-apt-repository -y ppa:alessandro-strada/ppa 2>&1 > /dev/null\n",
        "!apt-get update -qq 2>&1 > /dev/null\n",
        "!apt-get -y install -qq google-drive-ocamlfuse fuse\n",
        "from google.colab import auth\n",
        "auth.authenticate_user()\n",
        "from oauth2client.client import GoogleCredentials\n",
        "creds = GoogleCredentials.get_application_default()\n",
        "import getpass\n",
        "!google-drive-ocamlfuse -headless -id={creds.client_id} -secret={creds.client_secret} < /dev/null 2>&1 | grep URL\n",
        "vcode = getpass.getpass()\n",
        "!echo {vcode} | google-drive-ocamlfuse -headless -id={creds.client_id} -secret={creds.client_secret}"
      ],
      "execution_count": 1,
      "outputs": [
        {
          "output_type": "stream",
          "text": [
            "gpg: keybox '/tmp/tmp83arlbmz/pubring.gpg' created\n",
            "gpg: /tmp/tmp83arlbmz/trustdb.gpg: trustdb created\n",
            "gpg: key AD5F235DF639B041: public key \"Launchpad PPA for Alessandro Strada\" imported\n",
            "gpg: Total number processed: 1\n",
            "gpg:               imported: 1\n",
            "Warning: apt-key output should not be parsed (stdout is not a terminal)\n",
            "··········\n"
          ],
          "name": "stdout"
        }
      ]
    },
    {
      "metadata": {
        "id": "ALxAs-TpZPG2",
        "colab_type": "code",
        "colab": {
          "base_uri": "https://localhost:8080/",
          "height": 52
        },
        "outputId": "36f3080e-d797-49d3-e57d-d8b78e5258e9"
      },
      "cell_type": "code",
      "source": [
        "!mkdir -p drive\n",
        "!google-drive-ocamlfuse drive"
      ],
      "execution_count": 2,
      "outputs": [
        {
          "output_type": "stream",
          "text": [
            "fuse: mountpoint is not empty\r\n",
            "fuse: if you are sure this is safe, use the 'nonempty' mount option\r\n"
          ],
          "name": "stdout"
        }
      ]
    },
    {
      "metadata": {
        "id": "rWXQLVX2ZdMl",
        "colab_type": "code",
        "colab": {
          "base_uri": "https://localhost:8080/",
          "height": 34
        },
        "outputId": "e117c36b-2fdf-4d40-90f4-d19a9fc81dc2"
      },
      "cell_type": "code",
      "source": [
        "import os\n",
        "os.path.isdir(\"drive/DeepLearning/Traffic-Sign-Classifier\")"
      ],
      "execution_count": 3,
      "outputs": [
        {
          "output_type": "execute_result",
          "data": {
            "text/plain": [
              "True"
            ]
          },
          "metadata": {
            "tags": []
          },
          "execution_count": 3
        }
      ]
    },
    {
      "metadata": {
        "id": "4z9LC9Wn5Ez0",
        "colab_type": "text"
      },
      "cell_type": "markdown",
      "source": [
        "## 1. Load Dataset"
      ]
    },
    {
      "metadata": {
        "id": "QrzdCziSZepg",
        "colab_type": "code",
        "colab": {}
      },
      "cell_type": "code",
      "source": [
        "# Load pickled data\n",
        "import pickle\n",
        "import matplotlib.pyplot as plt\n",
        "import cv2\n",
        "import numpy as np\n",
        "\n",
        "# TODO: Fill this in based on where you saved the training and testing data\n",
        "\n",
        "training_file = \"drive/DeepLearning/Traffic-Sign-Classifier/traffic-sign-data/train.p\"\n",
        "validation_file = \"drive/DeepLearning/Traffic-Sign-Classifier/traffic-sign-data/valid.p\"\n",
        "testing_file = \"drive/DeepLearning/Traffic-Sign-Classifier/traffic-sign-data/test.p\"\n",
        "\n",
        "with open(training_file, mode='rb') as f:\n",
        "    train = pickle.load(f)\n",
        "with open(validation_file, mode='rb') as f:\n",
        "    valid = pickle.load(f)\n",
        "with open(testing_file, mode='rb') as f:\n",
        "    test = pickle.load(f)\n",
        "    \n",
        "X_train, y_train = train['features'], train['labels']\n",
        "X_valid, y_valid = valid['features'], valid['labels']\n",
        "X_test, y_test = test['features'], test['labels']"
      ],
      "execution_count": 0,
      "outputs": []
    },
    {
      "metadata": {
        "id": "qoELLPhoaQbG",
        "colab_type": "code",
        "colab": {
          "base_uri": "https://localhost:8080/",
          "height": 104
        },
        "outputId": "7896ba80-8aa1-4d28-872d-7061e56268a0"
      },
      "cell_type": "code",
      "source": [
        "### Replace each question mark with the appropriate value. \n",
        "### Use python, pandas or numpy methods rather than hard coding the results\n",
        "\n",
        "import pandas as pd\n",
        "\n",
        "# TODO: Number of training examples\n",
        "n_train = X_train.shape[0]\n",
        "\n",
        "# TODO: Number of validation examples\n",
        "n_validation = X_valid.shape[0]\n",
        "\n",
        "# TODO: Number of testing examples.\n",
        "n_test = X_test.shape[0]\n",
        "\n",
        "# TODO: What's the shape of an traffic sign image?\n",
        "image_shape = (X_train.shape[1:])\n",
        "\n",
        "# TODO: How many unique classes/labels there are in the dataset.\n",
        "n_classes = len(pd.unique(y_train))\n",
        "\n",
        "print(\"Number of training examples =\", n_train)\n",
        "print(\"Number of validation examples =\", n_validation)\n",
        "print(\"Number of testing examples =\", n_test)\n",
        "print(\"Image data shape =\", image_shape)\n",
        "print(\"Number of classes =\", n_classes)"
      ],
      "execution_count": 5,
      "outputs": [
        {
          "output_type": "stream",
          "text": [
            "Number of training examples = 34799\n",
            "Number of validation examples = 4410\n",
            "Number of testing examples = 12630\n",
            "Image data shape = (32, 32, 3)\n",
            "Number of classes = 43\n"
          ],
          "name": "stdout"
        }
      ]
    },
    {
      "metadata": {
        "id": "ZXbe9mpY5BSA",
        "colab_type": "text"
      },
      "cell_type": "markdown",
      "source": [
        "## 2. Preprocess Data"
      ]
    },
    {
      "metadata": {
        "id": "6MMhntGg4_2N",
        "colab_type": "code",
        "colab": {}
      },
      "cell_type": "code",
      "source": [
        "# Pre-Processing the data\n",
        "\n",
        "# scale images to values between -0.5 to 0.5\n",
        "def preprocess_data(data):\n",
        "    data_norm = []\n",
        "    for i in range(len(data)):\n",
        "        image = data[i]\n",
        "        image[:,:,0] = cv2.equalizeHist(image[:,:,0])\n",
        "        image[:,:,1] = cv2.equalizeHist(image[:,:,1])\n",
        "        image[:,:,2] = cv2.equalizeHist(image[:,:,2])\n",
        "        image = image/255.-.5\n",
        "        data_norm.append(image)\n",
        "    return np.array(data_norm, dtype=np.float32())\n",
        "\n",
        "X_train = preprocess_data(X_train)\n",
        "X_valid = preprocess_data(X_valid)\n",
        "X_test = preprocess_data(X_test)"
      ],
      "execution_count": 0,
      "outputs": []
    },
    {
      "metadata": {
        "id": "rpmo4VslZpZi",
        "colab_type": "code",
        "colab": {
          "base_uri": "https://localhost:8080/",
          "height": 86
        },
        "outputId": "22544ad6-ce0d-459e-e9a8-097471fdcc51"
      },
      "cell_type": "code",
      "source": [
        "!pip install -U imbalanced-learn"
      ],
      "execution_count": 7,
      "outputs": [
        {
          "output_type": "stream",
          "text": [
            "Requirement already up-to-date: imbalanced-learn in /usr/local/lib/python3.6/dist-packages (0.3.3)\r\n",
            "Requirement not upgraded as not directly required: scikit-learn in /usr/local/lib/python3.6/dist-packages (from imbalanced-learn) (0.19.1)\r\n",
            "Requirement not upgraded as not directly required: numpy in /usr/local/lib/python3.6/dist-packages (from imbalanced-learn) (1.14.5)\r\n",
            "Requirement not upgraded as not directly required: scipy in /usr/local/lib/python3.6/dist-packages (from imbalanced-learn) (0.19.1)\r\n"
          ],
          "name": "stdout"
        }
      ]
    },
    {
      "metadata": {
        "id": "PEm-eqys4Ufg",
        "colab_type": "text"
      },
      "cell_type": "markdown",
      "source": [
        "## 3. Undersample"
      ]
    },
    {
      "metadata": {
        "id": "igQ_hsPCZwyC",
        "colab_type": "code",
        "colab": {}
      },
      "cell_type": "code",
      "source": [
        "# from imblearn.under_sampling import *\n",
        "from imblearn.combine import *\n",
        "# from imblearn.ensemble import *\n",
        "# from imblearn.over_sampling import *"
      ],
      "execution_count": 0,
      "outputs": []
    },
    {
      "metadata": {
        "id": "dfhSA5hacsNo",
        "colab_type": "code",
        "colab": {
          "base_uri": "https://localhost:8080/",
          "height": 34
        },
        "outputId": "a42f7a3f-d096-4bae-dc6b-1b60121020db"
      },
      "cell_type": "code",
      "source": [
        "X_train_1d = np.array([X.ravel() for X in X_train])\n",
        "X_valid_1d = np.array([X.ravel() for X in X_valid])\n",
        "\n",
        "print(X_train_1d.shape)"
      ],
      "execution_count": 9,
      "outputs": [
        {
          "output_type": "stream",
          "text": [
            "(34799, 3072)\n"
          ],
          "name": "stdout"
        }
      ]
    },
    {
      "metadata": {
        "id": "aEjpcKSUl-wB",
        "colab_type": "text"
      },
      "cell_type": "markdown",
      "source": [
        "### Ensemble"
      ]
    },
    {
      "metadata": {
        "id": "k8YZFKlpl0-Z",
        "colab_type": "code",
        "colab": {
          "base_uri": "https://localhost:8080/",
          "height": 34
        },
        "outputId": "4d14bd0a-2fdb-4d4b-c336-9a93df8d34bc"
      },
      "cell_type": "code",
      "source": [
        "import random\n",
        "\n",
        "randint = int(random.random() * 10)\n",
        "X_train, y_train = SMOTEENN(random_state=randint).fit_sample(X_train_1d, y_train)\n",
        "X_valid, y_valid = SMOTEENN(random_state=randint).fit_sample(X_valid_1d, y_valid)\n",
        "\n",
        "X_train.shape"
      ],
      "execution_count": 10,
      "outputs": [
        {
          "output_type": "execute_result",
          "data": {
            "text/plain": [
              "(81950, 3072)"
            ]
          },
          "metadata": {
            "tags": []
          },
          "execution_count": 10
        }
      ]
    },
    {
      "metadata": {
        "id": "32UOk0Yg8ESW",
        "colab_type": "text"
      },
      "cell_type": "markdown",
      "source": [
        "### EditedNearestNeighbours"
      ]
    },
    {
      "metadata": {
        "id": "B4ESiN_pZ3Yj",
        "colab_type": "code",
        "colab": {
          "base_uri": "https://localhost:8080/",
          "height": 34
        },
        "outputId": "93a3e10e-7311-492a-ff90-8a31045ea50c"
      },
      "cell_type": "code",
      "source": [
        "import random\n",
        "\n",
        "randint = int(random.random() * 10)\n",
        "X_train, y_train = EditedNearestNeighbours(random_state=randint).fit_sample(X_train_1d, y_train)\n",
        "X_valid, y_valid = EditedNearestNeighbours(random_state=randint).fit_sample(X_valid_1d, y_valid)\n",
        "\n",
        "X_train.shape"
      ],
      "execution_count": 10,
      "outputs": [
        {
          "output_type": "execute_result",
          "data": {
            "text/plain": [
              "(28257, 3072)"
            ]
          },
          "metadata": {
            "tags": []
          },
          "execution_count": 10
        }
      ]
    },
    {
      "metadata": {
        "id": "XbTJTC18miYI",
        "colab_type": "code",
        "colab": {}
      },
      "cell_type": "code",
      "source": [
        "X_train = X_train.reshape((X_train.shape[0], 32, 32, 3))\n",
        "X_valid = X_valid.reshape((X_valid.shape[0], 32, 32, 3))"
      ],
      "execution_count": 0,
      "outputs": []
    },
    {
      "metadata": {
        "id": "gTeoKF87_ao4",
        "colab_type": "code",
        "colab": {
          "base_uri": "https://localhost:8080/",
          "height": 590
        },
        "outputId": "feb4614e-d5d6-4f94-e114-2b3cca335638"
      },
      "cell_type": "code",
      "source": [
        "plt.hist(y_train, bins=n_classes)\n",
        "plt.hist(y_valid, bins=n_classes)"
      ],
      "execution_count": 12,
      "outputs": [
        {
          "output_type": "execute_result",
          "data": {
            "text/plain": [
              "(array([240., 190., 215., 227., 188., 223., 240., 221., 226., 227., 189.,\n",
              "        228., 213., 221., 236., 236., 240., 239., 231., 240., 239., 240.,\n",
              "        237., 238., 240., 214., 239., 240., 240., 240., 236., 240., 240.,\n",
              "        239., 239., 238., 240., 240., 240., 240., 240., 240., 240.]),\n",
              " array([ 0.        ,  0.97674419,  1.95348837,  2.93023256,  3.90697674,\n",
              "         4.88372093,  5.86046512,  6.8372093 ,  7.81395349,  8.79069767,\n",
              "         9.76744186, 10.74418605, 11.72093023, 12.69767442, 13.6744186 ,\n",
              "        14.65116279, 15.62790698, 16.60465116, 17.58139535, 18.55813953,\n",
              "        19.53488372, 20.51162791, 21.48837209, 22.46511628, 23.44186047,\n",
              "        24.41860465, 25.39534884, 26.37209302, 27.34883721, 28.3255814 ,\n",
              "        29.30232558, 30.27906977, 31.25581395, 32.23255814, 33.20930233,\n",
              "        34.18604651, 35.1627907 , 36.13953488, 37.11627907, 38.09302326,\n",
              "        39.06976744, 40.04651163, 41.02325581, 42.        ]),\n",
              " <a list of 43 Patch objects>)"
            ]
          },
          "metadata": {
            "tags": []
          },
          "execution_count": 12
        },
        {
          "output_type": "display_data",
          "data": {
            "image/png": "[encoded data removed]",
            "text/plain": [
              "<matplotlib.figure.Figure at 0x7f4211dc2d68>"
            ]
          },
          "metadata": {
            "tags": []
          }
        }
      ]
    },
    {
      "metadata": {
        "id": "ehYm1NwQ5YrT",
        "colab_type": "text"
      },
      "cell_type": "markdown",
      "source": [
        "## 4. Network Design"
      ]
    },
    {
      "metadata": {
        "id": "eZ_bghL3iIa1",
        "colab_type": "code",
        "colab": {}
      },
      "cell_type": "code",
      "source": [
        "### Define your architecture here.\n",
        "### Feel free to use as many code cells as needed.\n",
        "\n",
        "import tensorflow as tf\n",
        "from tensorflow.contrib.layers import flatten\n",
        "\n",
        "\n",
        "def LeNet(x, phase):\n",
        "    # Hyperparameters\n",
        "    mu = 0\n",
        "    sigma = 0.1\n",
        "\n",
        "    # SOLUTION: Layer 1: Convolutional. Input = 32x32x3. Output = 28x28x6.\n",
        "    conv1_W = tf.Variable(tf.truncated_normal(\n",
        "        shape=(5, 5, 3, 6), mean=mu, stddev=sigma), name=\"conv1_W\")\n",
        "    conv1_b = tf.Variable(tf.zeros(6), name=\"conv1_b\")\n",
        "    conv1 = tf.nn.conv2d(x, conv1_W, strides=[\n",
        "                         1, 1, 1, 1], padding='VALID') + conv1_b\n",
        "    conv1 = tf.contrib.layers.batch_norm(conv1,\n",
        "                                 center=True, \n",
        "                                 scale=True,\n",
        "                                 is_training=phase,\n",
        "                                 updates_collections=None)\n",
        "    # SOLUTION: Activation.\n",
        "    conv1 = tf.nn.relu(conv1)\n",
        "\n",
        "    # SOLUTION: Pooling. Input = 28x28x6. Output = 14x14x6.\n",
        "    conv1 = tf.nn.max_pool(conv1, ksize=[1, 2, 2, 1], strides=[\n",
        "                           1, 2, 2, 1], padding='VALID')\n",
        "\n",
        "    # SOLUTION: Layer 2: Convolutional. Output = 10x10x16.\n",
        "    conv2_W = tf.Variable(tf.truncated_normal(\n",
        "        shape=(5, 5, 6, 16), mean=mu, stddev=sigma), name=\"conv2_W\")\n",
        "    conv2_b = tf.Variable(tf.zeros(16), name=\"conv2_b\")\n",
        "    conv2 = tf.nn.conv2d(conv1, conv2_W, strides=[\n",
        "                         1, 1, 1, 1], padding='VALID') + conv2_b\n",
        "    conv2 = tf.contrib.layers.batch_norm(conv2,\n",
        "                                 center=True, \n",
        "                                 scale=True,\n",
        "                                 is_training=phase,\n",
        "                                 updates_collections=None)\n",
        "    # SOLUTION: Activation.\n",
        "    conv2 = tf.nn.relu(conv2)\n",
        "\n",
        "    # SOLUTION: Pooling. Input = 10x10x16. Output = 5x5x16.\n",
        "    conv2 = tf.nn.max_pool(conv2, ksize=[1, 2, 2, 1], strides=[\n",
        "                           1, 2, 2, 1], padding='VALID')\n",
        "    # SOLUTION: Flatten. Input = 5x5x16. Output = 400.\n",
        "    fc0 = flatten(conv2)\n",
        "    \n",
        "    # SOLUTION: Layer 3: Fully Connected. Input = 400. Output = 120.\n",
        "    fc1_W = tf.Variable(tf.truncated_normal(\n",
        "        shape=(400, 250), mean=mu, stddev=sigma), name=\"fc1_W\")\n",
        "    fc1_b = tf.Variable(tf.zeros(250), name=\"fc1_b\")\n",
        "    fc1 = tf.matmul(fc0, fc1_W) + fc1_b\n",
        "    fc1 = tf.contrib.layers.batch_norm(fc1,\n",
        "                                 center=True, \n",
        "                                 scale=True,\n",
        "                                 is_training=phase,\n",
        "                                 updates_collections=None)\n",
        "    # SOLUTION: Activation.\n",
        "    fc1 = tf.nn.relu(fc1)\n",
        "    \n",
        "    fc2_W = tf.Variable(tf.truncated_normal(\n",
        "        shape=(250, 120), mean=mu, stddev=sigma), name=\"fc2_W\")\n",
        "    fc2_b = tf.Variable(tf.zeros(120), name=\"fc2_b\")\n",
        "    fc2 = tf.matmul(fc1, fc2_W) + fc2_b\n",
        "    fc2 = tf.contrib.layers.batch_norm(fc2,\n",
        "                                 center=True, \n",
        "                                 scale=True,\n",
        "                                 is_training=phase,\n",
        "                                 updates_collections=None)\n",
        "    # SOLUTION: Activation.\n",
        "    fc2 = tf.nn.relu(fc2)\n",
        "\n",
        "    # SOLUTION: Layer 4: Fully Connected. Input = 120. Output = 84.\n",
        "    fc3_W = tf.Variable(tf.truncated_normal(\n",
        "        shape=(120, 84), mean=mu, stddev=sigma), name=\"fc3_W\")\n",
        "    fc3_b = tf.Variable(tf.zeros(84), name=\"fc3_b\")\n",
        "    fc3 = tf.matmul(fc2, fc3_W) + fc3_b\n",
        "    fc3 = tf.contrib.layers.batch_norm(fc3,\n",
        "                                 center=True, \n",
        "                                 scale=True,\n",
        "                                 is_training=phase,\n",
        "                                 updates_collections=None)\n",
        "    # SOLUTION: Activation.\n",
        "    fc3 = tf.nn.relu(fc3)\n",
        "\n",
        "    # SOLUTION: Layer 5: Fully Connected. Input = 84. Output = 10.\n",
        "    fc4_W = tf.Variable(tf.truncated_normal(\n",
        "        shape=(84, 43), mean=mu, stddev=sigma), name=\"fc4_W\")\n",
        "    fc4_b = tf.Variable(tf.zeros(43), name=\"fc4_b\")\n",
        "    logits = tf.matmul(fc3, fc4_W) + fc4_b\n",
        "\n",
        "    return logits"
      ],
      "execution_count": 0,
      "outputs": []
    },
    {
      "metadata": {
        "id": "bRYotIakiKKf",
        "colab_type": "code",
        "colab": {}
      },
      "cell_type": "code",
      "source": [
        "x = tf.placeholder(tf.float32, (None, 32, 32, 3))\n",
        "y = tf.placeholder(tf.int32, (None))\n",
        "one_hot_y = tf.one_hot(y, 43)\n",
        "in_training_mode = tf.placeholder(tf.bool)"
      ],
      "execution_count": 0,
      "outputs": []
    },
    {
      "metadata": {
        "id": "9b6qbPP2iL-g",
        "colab_type": "code",
        "colab": {}
      },
      "cell_type": "code",
      "source": [
        "##### Training Pipeline\n",
        "rate = 0.001\n",
        "\n",
        "logits = LeNet(x, in_training_mode)\n",
        "cross_entropy = tf.nn.softmax_cross_entropy_with_logits_v2(labels=one_hot_y, logits=logits)\n",
        "loss_operation = tf.reduce_mean(cross_entropy)\n",
        "optimizer = tf.train.AdamOptimizer(learning_rate = rate)\n",
        "training_operation = optimizer.minimize(loss_operation)"
      ],
      "execution_count": 0,
      "outputs": []
    },
    {
      "metadata": {
        "id": "DsDp6AqgiOEq",
        "colab_type": "code",
        "colab": {}
      },
      "cell_type": "code",
      "source": [
        "correct_prediction = tf.equal(tf.argmax(logits, 1), tf.argmax(one_hot_y, 1))\n",
        "accuracy_operation = tf.reduce_mean(tf.cast(correct_prediction, tf.float32))\n",
        "saver = tf.train.Saver()"
      ],
      "execution_count": 0,
      "outputs": []
    },
    {
      "metadata": {
        "id": "2GlzjyEIiQEc",
        "colab_type": "code",
        "colab": {}
      },
      "cell_type": "code",
      "source": [
        "def evaluate(X_data, y_data, is_training):\n",
        "    num_examples = len(X_data)\n",
        "    total_accuracy = 0\n",
        "    sess = tf.get_default_session()\n",
        "    for offset in range(0, num_examples, BATCH_SIZE):\n",
        "        batch_x, batch_y = X_data[offset:offset+BATCH_SIZE], y_data[offset:offset+BATCH_SIZE]\n",
        "        accuracy = sess.run(accuracy_operation, feed_dict={x: batch_x, y: batch_y, in_training_mode:is_training})\n",
        "        total_accuracy += (accuracy * len(batch_x))\n",
        "    return total_accuracy / num_examples"
      ],
      "execution_count": 0,
      "outputs": []
    },
    {
      "metadata": {
        "id": "RAZkX8AhiR1K",
        "colab_type": "code",
        "colab": {
          "base_uri": "https://localhost:8080/",
          "height": 3265
        },
        "outputId": "40e5cc5e-7793-4d06-f32c-e56b7e3863a1"
      },
      "cell_type": "code",
      "source": [
        "from sklearn.utils import shuffle\n",
        "import numpy as np\n",
        "import matplotlib.pyplot as plt\n",
        "\n",
        "EPOCHS = 50\n",
        "BATCH_SIZE = 256\n",
        "\n",
        "with tf.Session() as sess:\n",
        "    sess.run(tf.global_variables_initializer())\n",
        "    \n",
        "    t_accuracy = []\n",
        "    v_accuracy = []\n",
        "    max_va = 0.0\n",
        "    print(\"Training...\")\n",
        "    print()\n",
        "    for i in range(EPOCHS):\n",
        "        X_train, y_train = shuffle(X_train, y_train)\n",
        "        for offset in range(0, len(X_train), BATCH_SIZE):\n",
        "            end = offset + BATCH_SIZE\n",
        "            batch_x, batch_y = X_train[offset:end], y_train[offset:end]\n",
        "            sess.run(training_operation, feed_dict={x: batch_x, y: batch_y, in_training_mode: True})\n",
        "        \n",
        "        train_accuracy = evaluate(X_train, y_train, False)\n",
        "        validation_accuracy = evaluate(X_valid, y_valid, False)\n",
        "        t_accuracy = np.append(t_accuracy, train_accuracy)\n",
        "        v_accuracy = np.append(v_accuracy, validation_accuracy)\n",
        "        print(\"EPOCH {} ...\".format(i+1))\n",
        "        print(\"Train Accuracy = {:.3f}\".format(train_accuracy))\n",
        "        print(\"Validation Accuracy = {:.3f}\".format(validation_accuracy))\n",
        "        \n",
        "        \n",
        "        if (validation_accuracy > 0.93) and (validation_accuracy >= max_va):\n",
        "            saver.save(sess, 'drive/DeepLearning/Traffic-Sign-Classifier/lenet_max')\n",
        "            print(\"saved\")\n",
        "            print()\n",
        "            max_va = validation_accuracy\n",
        "        \n",
        "    plt.plot(range(len(t_accuracy)), t_accuracy)\n",
        "    plt.plot(range(len(v_accuracy)), v_accuracy)\n",
        "    plt.show()"
      ],
      "execution_count": 18,
      "outputs": [
        {
          "output_type": "stream",
          "text": [
            "Training...\n",
            "\n",
            "EPOCH 1 ...\n",
            "Train Accuracy = 0.842\n",
            "Validation Accuracy = 0.695\n",
            "EPOCH 2 ...\n",
            "Train Accuracy = 0.957\n",
            "Validation Accuracy = 0.784\n",
            "EPOCH 3 ...\n",
            "Train Accuracy = 0.930\n",
            "Validation Accuracy = 0.768\n",
            "EPOCH 4 ...\n",
            "Train Accuracy = 0.982\n",
            "Validation Accuracy = 0.833\n",
            "EPOCH 5 ...\n",
            "Train Accuracy = 0.989\n",
            "Validation Accuracy = 0.854\n",
            "EPOCH 6 ...\n",
            "Train Accuracy = 0.984\n",
            "Validation Accuracy = 0.848\n",
            "EPOCH 7 ...\n",
            "Train Accuracy = 0.995\n",
            "Validation Accuracy = 0.869\n",
            "EPOCH 8 ...\n",
            "Train Accuracy = 0.990\n",
            "Validation Accuracy = 0.866\n",
            "EPOCH 9 ...\n",
            "Train Accuracy = 0.996\n",
            "Validation Accuracy = 0.867\n",
            "EPOCH 10 ...\n",
            "Train Accuracy = 0.998\n",
            "Validation Accuracy = 0.888\n",
            "EPOCH 11 ...\n",
            "Train Accuracy = 0.999\n",
            "Validation Accuracy = 0.907\n",
            "EPOCH 12 ...\n",
            "Train Accuracy = 0.998\n",
            "Validation Accuracy = 0.877\n",
            "EPOCH 13 ...\n",
            "Train Accuracy = 0.999\n",
            "Validation Accuracy = 0.909\n",
            "EPOCH 14 ...\n",
            "Train Accuracy = 1.000\n",
            "Validation Accuracy = 0.925\n",
            "EPOCH 15 ...\n",
            "Train Accuracy = 1.000\n",
            "Validation Accuracy = 0.924\n",
            "EPOCH 16 ...\n",
            "Train Accuracy = 1.000\n",
            "Validation Accuracy = 0.931\n",
            "saved\n",
            "\n",
            "EPOCH 17 ...\n",
            "Train Accuracy = 0.965\n",
            "Validation Accuracy = 0.846\n",
            "EPOCH 18 ...\n",
            "Train Accuracy = 0.996\n",
            "Validation Accuracy = 0.887\n",
            "EPOCH 19 ...\n",
            "Train Accuracy = 1.000\n",
            "Validation Accuracy = 0.920\n",
            "EPOCH 20 ...\n",
            "Train Accuracy = 1.000\n",
            "Validation Accuracy = 0.922\n",
            "EPOCH 21 ...\n",
            "Train Accuracy = 1.000\n",
            "Validation Accuracy = 0.936\n",
            "saved\n",
            "\n",
            "EPOCH 22 ...\n",
            "Train Accuracy = 1.000\n",
            "Validation Accuracy = 0.937\n",
            "saved\n",
            "\n",
            "EPOCH 23 ...\n",
            "Train Accuracy = 1.000\n",
            "Validation Accuracy = 0.937\n",
            "saved\n",
            "\n",
            "EPOCH 24 ...\n",
            "Train Accuracy = 0.967\n",
            "Validation Accuracy = 0.869\n",
            "EPOCH 25 ...\n",
            "Train Accuracy = 0.997\n",
            "Validation Accuracy = 0.913\n",
            "EPOCH 26 ...\n",
            "Train Accuracy = 1.000\n",
            "Validation Accuracy = 0.926\n",
            "EPOCH 27 ...\n",
            "Train Accuracy = 1.000\n",
            "Validation Accuracy = 0.929\n",
            "EPOCH 28 ...\n",
            "Train Accuracy = 0.993\n",
            "Validation Accuracy = 0.893\n",
            "EPOCH 29 ...\n",
            "Train Accuracy = 0.995\n",
            "Validation Accuracy = 0.890\n",
            "EPOCH 30 ...\n",
            "Train Accuracy = 0.999\n",
            "Validation Accuracy = 0.917\n",
            "EPOCH 31 ...\n",
            "Train Accuracy = 0.999\n",
            "Validation Accuracy = 0.920\n",
            "EPOCH 32 ...\n",
            "Train Accuracy = 1.000\n",
            "Validation Accuracy = 0.929\n",
            "EPOCH 33 ...\n",
            "Train Accuracy = 1.000\n",
            "Validation Accuracy = 0.930\n",
            "EPOCH 34 ...\n",
            "Train Accuracy = 0.988\n",
            "Validation Accuracy = 0.879\n",
            "EPOCH 35 ...\n",
            "Train Accuracy = 0.983\n",
            "Validation Accuracy = 0.852\n",
            "EPOCH 36 ...\n",
            "Train Accuracy = 1.000\n",
            "Validation Accuracy = 0.912\n",
            "EPOCH 37 ...\n",
            "Train Accuracy = 0.999\n",
            "Validation Accuracy = 0.900\n",
            "EPOCH 38 ...\n",
            "Train Accuracy = 1.000\n",
            "Validation Accuracy = 0.918\n",
            "EPOCH 39 ...\n",
            "Train Accuracy = 1.000\n",
            "Validation Accuracy = 0.933\n",
            "EPOCH 40 ...\n",
            "Train Accuracy = 1.000\n",
            "Validation Accuracy = 0.940\n",
            "saved\n",
            "\n",
            "EPOCH 41 ...\n",
            "Train Accuracy = 1.000\n",
            "Validation Accuracy = 0.937\n",
            "EPOCH 42 ...\n",
            "Train Accuracy = 1.000\n",
            "Validation Accuracy = 0.941\n",
            "saved\n",
            "\n",
            "EPOCH 43 ...\n",
            "Train Accuracy = 0.994\n",
            "Validation Accuracy = 0.921\n",
            "EPOCH 44 ...\n",
            "Train Accuracy = 1.000\n",
            "Validation Accuracy = 0.948\n",
            "saved\n",
            "\n",
            "EPOCH 45 ...\n",
            "Train Accuracy = 1.000\n",
            "Validation Accuracy = 0.949\n",
            "saved\n",
            "\n",
            "EPOCH 46 ...\n",
            "Train Accuracy = 1.000\n",
            "Validation Accuracy = 0.943\n",
            "EPOCH 47 ...\n",
            "Train Accuracy = 1.000\n",
            "Validation Accuracy = 0.947\n",
            "EPOCH 48 ...\n",
            "Train Accuracy = 1.000\n",
            "Validation Accuracy = 0.947\n",
            "EPOCH 49 ...\n",
            "Train Accuracy = 1.000\n",
            "Validation Accuracy = 0.946\n",
            "EPOCH 50 ...\n",
            "Train Accuracy = 1.000\n",
            "Validation Accuracy = 0.946\n"
          ],
          "name": "stdout"
        },
        {
          "output_type": "display_data",
          "data": {
            "image/png": "[encoded data removed]",
            "text/plain": [
              "<matplotlib.figure.Figure at 0x7f41c390b7b8>"
            ]
          },
          "metadata": {
            "tags": []
          }
        }
      ]
    },
    {
      "metadata": {
        "id": "9JhOqZQS6DT7",
        "colab_type": "text"
      },
      "cell_type": "markdown",
      "source": [
        "## Evaluate with Test Data"
      ]
    },
    {
      "metadata": {
        "id": "kfIw8JfajBZ0",
        "colab_type": "code",
        "colab": {
          "base_uri": "https://localhost:8080/",
          "height": 52
        },
        "outputId": "1684b470-307c-4406-d88d-29f397d34a47"
      },
      "cell_type": "code",
      "source": [
        "with tf.Session() as sess:\n",
        "    saver.restore(sess, tf.train.latest_checkpoint('drive/DeepLearning/Traffic-Sign-Classifier'))\n",
        "    test_accuracy = evaluate(X_test, y_test, False)\n",
        "    print(\"Test Accuracy = {:.3f}\".format(test_accuracy))"
      ],
      "execution_count": 19,
      "outputs": [
        {
          "output_type": "stream",
          "text": [
            "INFO:tensorflow:Restoring parameters from drive/DeepLearning/Traffic-Sign-Classifier/lenet_max\n",
            "Test Accuracy = 0.932\n"
          ],
          "name": "stdout"
        }
      ]
    },
    {
      "metadata": {
        "id": "eGJMt-Dk6BPX",
        "colab_type": "code",
        "colab": {}
      },
      "cell_type": "code",
      "source": [
        "### Load the images and plot them here.\n",
        "### Feel free to use as many code cells as needed.\n",
        "\n",
        "\n",
        "### Load Test images and concat them as (n X 32 X 32 X 3) ndarray\n",
        "import os\n",
        "import matplotlib.image as mpimg\n",
        "\n",
        "test_images = os.listdir(\"drive/DeepLearning/Traffic-Sign-Classifier/test-images\")\n",
        "test_images.sort()\n",
        "\n",
        "X_final_test = np.empty((0, 32, 32, 3), int)\n",
        "y_final_test = np.array([22, 28, 14, 4, 31])\n",
        "\n",
        "for image_name in test_images:\n",
        "    img = mpimg.imread('drive/DeepLearning/Traffic-Sign-Classifier/test-images/'+image_name)\n",
        "    X_final_test = np.append(X_final_test, [img], axis=0)\n"
      ],
      "execution_count": 0,
      "outputs": []
    },
    {
      "metadata": {
        "id": "hPXoHID26LPc",
        "colab_type": "code",
        "colab": {
          "base_uri": "https://localhost:8080/",
          "height": 312
        },
        "outputId": "6c2d7c34-bcc4-4bce-8629-3ea0419f6732"
      },
      "cell_type": "code",
      "source": [
        "### Run the predictions here and use the model to output the prediction for each image.\n",
        "### Make sure to pre-process the images with the same pre-processing pipeline used earlier.\n",
        "### Feel free to use as many code cells as needed.\n",
        "sess = tf.Session()\n",
        "saver.restore(sess, tf.train.latest_checkpoint('drive/DeepLearning/Traffic-Sign-Classifier'))\n",
        "\n",
        "### preprocess\n",
        "X_final_test = X_final_test.astype(np.uint8)\n",
        "X_final_test = preprocess_data(X_final_test)\n",
        "\n",
        "### Prediction\n",
        "logit = sess.run(logits, feed_dict={x: X_final_test, in_training_mode:False})\n",
        "predict = tf.argmax(logit, 1)\n",
        "\n",
        "for index in range(len(X_final_test)):\n",
        "    print(\"Label    : \", y_final_test[index])\n",
        "    print(\"Predict : \", sess.run(predict[index]))\n",
        "    print(\"\")\n",
        "    \n",
        "print(\"Accuracy : \", sess.run(accuracy_operation, feed_dict={logits:logit, y: y_final_test}))"
      ],
      "execution_count": 21,
      "outputs": [
        {
          "output_type": "stream",
          "text": [
            "INFO:tensorflow:Restoring parameters from drive/DeepLearning/Traffic-Sign-Classifier/lenet_max\n",
            "Label    :  22\n",
            "Predict :  22\n",
            "\n",
            "Label    :  28\n",
            "Predict :  27\n",
            "\n",
            "Label    :  14\n",
            "Predict :  14\n",
            "\n",
            "Label    :  4\n",
            "Predict :  4\n",
            "\n",
            "Label    :  31\n",
            "Predict :  23\n",
            "\n",
            "Accuracy :  0.6\n"
          ],
          "name": "stdout"
        }
      ]
    },
    {
      "metadata": {
        "id": "03A3Vuy36PQg",
        "colab_type": "code",
        "colab": {
          "base_uri": "https://localhost:8080/",
          "height": 573
        },
        "outputId": "2197b2cb-b524-45c4-96ed-30f766f62e80"
      },
      "cell_type": "code",
      "source": [
        "\n",
        "top_k = tf.nn.top_k(logit, k=5, sorted=True)\n",
        "\n",
        "print(y_final_test)\n",
        "print(\"\")\n",
        "print(sess.run(top_k.values))\n",
        "print(\"\")\n",
        "print(sess.run(top_k.indices))\n",
        "top_k_prob = sess.run(top_k.values)\n",
        "\n",
        "for prob in top_k_prob:\n",
        "    plt.plot(prob)\n",
        "sess.close()"
      ],
      "execution_count": 22,
      "outputs": [
        {
          "output_type": "stream",
          "text": [
            "[22 28 14  4 31]\n",
            "\n",
            "[[ 5.7409487   2.712982    2.458427   -1.0104907  -1.141889  ]\n",
            " [ 1.7318133   1.1828991   1.166112    0.14623913 -0.10257617]\n",
            " [ 2.8641782   2.0407434   1.3726467  -1.4560746  -1.6057751 ]\n",
            " [ 1.3360323   1.1515433  -0.1390696  -0.22916143 -0.4284991 ]\n",
            " [ 4.3948994   1.1411538   0.43901482  0.20233451 -0.15353301]]\n",
            "\n",
            "[[22 31  3  1 24]\n",
            " [27 20 11 28 16]\n",
            " [14  3  2 20  5]\n",
            " [ 4  0 31 33 24]\n",
            " [23 11 17 21 19]]\n"
          ],
          "name": "stdout"
        },
        {
          "output_type": "display_data",
          "data": {
            "image/png": "[encoded data removed]",
            "text/plain": [
              "<matplotlib.figure.Figure at 0x7f41c3a6a6d8>"
            ]
          },
          "metadata": {
            "tags": []
          }
        }
      ]
    },
    {
      "metadata": {
        "id": "JgOuTmt_6sgM",
        "colab_type": "code",
        "colab": {}
      },
      "cell_type": "code",
      "source": [
        ""
      ],
      "execution_count": 0,
      "outputs": []
    }
  ]
}